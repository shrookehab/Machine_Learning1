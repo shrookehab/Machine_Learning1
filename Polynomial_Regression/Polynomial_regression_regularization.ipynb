{
  "nbformat": 4,
  "nbformat_minor": 0,
  "metadata": {
    "kernelspec": {
      "display_name": "Python 3",
      "language": "python",
      "name": "python3"
    },
    "language_info": {
      "codemirror_mode": {
        "name": "ipython",
        "version": 3
      },
      "file_extension": ".py",
      "mimetype": "text/x-python",
      "name": "python",
      "nbconvert_exporter": "python",
      "pygments_lexer": "ipython3",
      "version": "3.7.6"
    },
    "colab": {
      "name": "Polynomial_regression_regularization.ipynb",
      "provenance": [],
      "collapsed_sections": [],
      "include_colab_link": true
    }
  },
  "cells": [
    {
      "cell_type": "markdown",
      "metadata": {
        "id": "view-in-github",
        "colab_type": "text"
      },
      "source": [
        "<a href=\"https://colab.research.google.com/github/shrookehab/Machine_Learning1/blob/main/Polynomial_Regression/Polynomial_regression_regularization.ipynb\" target=\"_parent\"><img src=\"https://colab.research.google.com/assets/colab-badge.svg\" alt=\"Open In Colab\"/></a>"
      ]
    },
    {
      "cell_type": "markdown",
      "metadata": {
        "id": "eyjewtSBMA95"
      },
      "source": [
        "# Testing and regularization"
      ]
    },
    {
      "cell_type": "code",
      "metadata": {
        "id": "y_RXtj1eMCb3",
        "outputId": "976df7e6-404e-4ef1-eabb-80951afd16a7",
        "colab": {
          "base_uri": "https://localhost:8080/"
        }
      },
      "source": [
        "!git clone https://github.com/shrookehab/Machine_Learning1.git\n",
        "%cd  Machine_Learning1/Polynomial_Regression"
      ],
      "execution_count": 62,
      "outputs": [
        {
          "output_type": "stream",
          "name": "stdout",
          "text": [
            "Cloning into 'Machine_Learning1'...\n",
            "remote: Enumerating objects: 23, done.\u001b[K\n",
            "remote: Counting objects:   4% (1/23)\u001b[K\rremote: Counting objects:   8% (2/23)\u001b[K\rremote: Counting objects:  13% (3/23)\u001b[K\rremote: Counting objects:  17% (4/23)\u001b[K\rremote: Counting objects:  21% (5/23)\u001b[K\rremote: Counting objects:  26% (6/23)\u001b[K\rremote: Counting objects:  30% (7/23)\u001b[K\rremote: Counting objects:  34% (8/23)\u001b[K\rremote: Counting objects:  39% (9/23)\u001b[K\rremote: Counting objects:  43% (10/23)\u001b[K\rremote: Counting objects:  47% (11/23)\u001b[K\rremote: Counting objects:  52% (12/23)\u001b[K\rremote: Counting objects:  56% (13/23)\u001b[K\rremote: Counting objects:  60% (14/23)\u001b[K\rremote: Counting objects:  65% (15/23)\u001b[K\rremote: Counting objects:  69% (16/23)\u001b[K\rremote: Counting objects:  73% (17/23)\u001b[K\rremote: Counting objects:  78% (18/23)\u001b[K\rremote: Counting objects:  82% (19/23)\u001b[K\rremote: Counting objects:  86% (20/23)\u001b[K\rremote: Counting objects:  91% (21/23)\u001b[K\rremote: Counting objects:  95% (22/23)\u001b[K\rremote: Counting objects: 100% (23/23)\u001b[K\rremote: Counting objects: 100% (23/23), done.\u001b[K\n",
            "remote: Compressing objects: 100% (21/21), done.\u001b[K\n",
            "remote: Total 23 (delta 3), reused 0 (delta 0), pack-reused 0\u001b[K\n",
            "Unpacking objects: 100% (23/23), done.\n",
            "/content/Machine_Learning1/Polynomial_Regression/Machine_Learning1/Polynomial_Regression/Machine_Learning1/Polynomial_Regression/Machine_Learning1/Polynomial_Regression/Machine_Learning1/Polynomial_Regression\n"
          ]
        }
      ]
    },
    {
      "cell_type": "code",
      "metadata": {
        "id": "YpX56PtFMA-A"
      },
      "source": [
        "import pandas as pd\n",
        "import numpy as np\n",
        "import random\n",
        "import matplotlib.pyplot as plt\n",
        "random.seed(0)"
      ],
      "execution_count": 8,
      "outputs": []
    },
    {
      "cell_type": "markdown",
      "metadata": {
        "id": "WBD0ZY2wMA-B"
      },
      "source": [
        "## Defining our dataset"
      ]
    },
    {
      "cell_type": "code",
      "metadata": {
        "id": "4sDgbZNRMA-C",
        "outputId": "f46e66fb-cb2f-4f43-91da-83e070e28b8d",
        "colab": {
          "base_uri": "https://localhost:8080/",
          "height": 269
        }
      },
      "source": [
        "# Our original polynomial is -x^2+x+15\n",
        "coefs = [15,1,-1]\n",
        "\n",
        "def polynomial(coefs, x):\n",
        "    n = len(coefs)\n",
        "    return sum([coefs[i]*x**i for i in range(n)])\n",
        "\n",
        "def draw_polynomial(coefs):\n",
        "    n = len(coefs)\n",
        "    x = np.linspace(-5, 5, 1000)\n",
        "    plt.ylim(-20,20)\n",
        "    plt.plot(x, sum([coefs[i]*x**i for i in range(n)]), linestyle='-', color='black')\n",
        "\n",
        "draw_polynomial(coefs)"
      ],
      "execution_count": 9,
      "outputs": [
        {
          "output_type": "display_data",
          "data": {
            "text/plain": [
              "<Figure size 432x288 with 1 Axes>"
            ],
            "image/png": "[encoded data removed]"
          },
          "metadata": {
            "needs_background": "light"
          }
        }
      ]
    },
    {
      "cell_type": "code",
      "metadata": {
        "id": "WvGqHRFCMA-E"
      },
      "source": [
        "X = []\n",
        "Y = []\n",
        "for i in range(40):\n",
        "    x = random.uniform(-5,5)\n",
        "    y = polynomial(coefs, x) + random.gauss(0,2)\n",
        "    X.append(x)\n",
        "    Y.append(y)\n",
        "X=np.array(X)\n",
        "Y=np.array(Y)"
      ],
      "execution_count": 10,
      "outputs": []
    },
    {
      "cell_type": "code",
      "metadata": {
        "id": "ETQxgGiFMA-E",
        "outputId": "791e1786-6c7c-41c0-b3ec-00355c32387e",
        "colab": {
          "base_uri": "https://localhost:8080/",
          "height": 284
        }
      },
      "source": [
        "plt.scatter(X, Y)\n",
        "#draw_polynomial(coefs)"
      ],
      "execution_count": 11,
      "outputs": [
        {
          "output_type": "execute_result",
          "data": {
            "text/plain": [
              "<matplotlib.collections.PathCollection at 0x7f4a799b7890>"
            ]
          },
          "metadata": {},
          "execution_count": 11
        },
        {
          "output_type": "display_data",
          "data": {
            "text/plain": [
              "<Figure size 432x288 with 1 Axes>"
            ],
            "image/png": "[encoded data removed]"
          },
          "metadata": {
            "needs_background": "light"
          }
        }
      ]
    },
    {
      "cell_type": "markdown",
      "metadata": {
        "id": "wLUfmV9iMA-F"
      },
      "source": [
        "## Training a polynomial regression model"
      ]
    },
    {
      "cell_type": "code",
      "metadata": {
        "id": "xsNmJ6hoGPjb",
        "outputId": "9bf66073-2f52-426c-856f-593b50ec3568",
        "colab": {
          "base_uri": "https://localhost:8080/"
        }
      },
      "source": [
        "for datasample in zip(X,Y):\n",
        "    print(datasample)"
      ],
      "execution_count": 12,
      "outputs": [
        {
          "output_type": "stream",
          "name": "stdout",
          "text": [
            "(3.4442185152504816, 6.685961311021467)\n",
            "(-2.4108324970703663, 4.690236225597948)\n",
            "(0.11274721368608542, 12.205789026637378)\n",
            "(-1.9668727392107255, 11.133217991032268)\n",
            "(-0.23403045847644144, 10.927272159051856)\n",
            "(0.046868558173902564, 12.8584762866286)\n",
            "(-2.1816215560029617, 8.16012255928749)\n",
            "(-2.4949365863755943, 3.5061587527226514)\n",
            "(4.097462559682402, 5.933186396721837)\n",
            "(4.021659504395828, 2.454299054753137)\n",
            "(-1.8985243068066735, 8.956020414039855)\n",
            "(1.8398393191544127, 9.208004401915796)\n",
            "(-0.2785728454728664, 16.36505651355184)\n",
            "(1.1088697344380165, 16.14144978027318)\n",
            "(4.130110532378982, 4.299534274468492)\n",
            "(3.6530992777164, 4.83366913200435)\n",
            "(-2.395076896080406, 7.723543125251446)\n",
            "(-4.8595829983598104, -15.848718674227753)\n",
            "(2.1970468640395415, 9.366124268570305)\n",
            "(1.6815320123185087, 16.070558182542374)\n",
            "(-4.988571806855717, -18.893035332565795)\n",
            "(-2.5608912311286804, 6.043189895391749)\n",
            "(-1.7479563725260991, 11.091071520573042)\n",
            "(0.6751074062067186, 14.272553413210698)\n",
            "(-2.6138407138477984, 9.085321805751548)\n",
            "(-0.5203042856442961, 13.47860807272069)\n",
            "(-4.195541814474646, -7.812998091307244)\n",
            "(4.3283382422690675, 2.748647759010411)\n",
            "(-3.909421540688963, -7.163796336350065)\n",
            "(0.4744091132842376, 14.257854146830486)\n",
            "(3.14466863291336, 3.2664703661537313)\n",
            "(1.0318562796138302, 13.67662422703284)\n",
            "(0.8761706417543635, 12.57404063707232)\n",
            "(-1.1509885402733957, 13.436894195835206)\n",
            "(0.7565101416488851, 14.859288476607356)\n",
            "(-3.132704717444449, 3.3081236367340967)\n",
            "(1.1277317986860673, 13.596584816754236)\n",
            "(-4.1017563880440635, -7.821475002235993)\n",
            "(2.576039219664368, 14.181083579723474)\n",
            "(3.424602231401824, 3.5269925176080537)\n"
          ]
        }
      ]
    },
    {
      "cell_type": "markdown",
      "metadata": {
        "id": "Pze2ZphQMA-G"
      },
      "source": [
        "### Adding columns to our dataset corresponding to $x^2, x^3, \\ldots, x^{200}$"
      ]
    },
    {
      "cell_type": "code",
      "metadata": {
        "id": "c2XZgASOGfVv"
      },
      "source": [
        "from sklearn.preprocessing import PolynomialFeatures\n",
        "def addPoly(X,polyDegree):\n",
        "    ## TODO ##\n",
        "    #use sklearn (PolynomialFeatures method)\n",
        "    X = X.reshape(-1,1)\n",
        "    poly = PolynomialFeatures(degree=polyDegree, include_bias=False)\n",
        "    X = poly.fit_transform(X)\n",
        "\n",
        "    return X\n",
        "X_poly=addPoly(X,200)"
      ],
      "execution_count": 13,
      "outputs": []
    },
    {
      "cell_type": "code",
      "metadata": {
        "id": "kKXdyM7fGzLC",
        "outputId": "b6f3631f-7931-4a3a-875c-37f464fac748",
        "colab": {
          "base_uri": "https://localhost:8080/"
        }
      },
      "source": [
        "print(X_poly.shape)\n",
        "print(X_poly[0,:])"
      ],
      "execution_count": 14,
      "outputs": [
        {
          "output_type": "stream",
          "name": "stdout",
          "text": [
            "(40, 200)\n",
            "[3.44421852e+000 1.18626412e+001 4.08575284e+001 1.40722256e+002\n",
            " 4.84678199e+002 1.66933763e+003 5.74956356e+003 1.98027533e+004\n",
            " 6.82050095e+004 2.34912956e+005 8.09091554e+005 2.78668811e+006\n",
            " 9.59796279e+006 3.30574811e+007 1.13857189e+008 3.92149037e+008\n",
            " 1.35064697e+009 4.65192332e+009 1.60222404e+010 5.51840971e+010\n",
            " 1.90066089e+011 6.54629143e+011 2.25468581e+012 7.76563063e+012\n",
            " 2.67465288e+013 9.21208897e+013 3.17284474e+014 1.09279706e+015\n",
            " 3.76383187e+015 1.29634594e+016 4.46489869e+016 1.53780867e+017\n",
            " 5.29654911e+017 1.82424725e+018 6.28310616e+018 2.16403906e+019\n",
            " 7.45342338e+019 2.56712188e+020 8.84172871e+020 3.04528457e+021\n",
            " 1.04886255e+022 3.61251182e+022 1.24422801e+023 4.28539315e+023\n",
            " 1.47598304e+024 5.08360812e+024 1.75090572e+025 6.03050191e+025\n",
            " 2.07703663e+026 7.15376803e+026 2.46391403e+027 8.48625832e+027\n",
            " 2.92285280e+028 1.00669437e+029 3.46727540e+029 1.19420541e+030\n",
            " 4.11310440e+030 1.41664303e+031 4.87922816e+031 1.68051280e+032\n",
            " 5.78805329e+032 1.99353203e+033 6.86615993e+033 2.36485552e+034\n",
            " 8.14507916e+034 2.80534324e+035 9.66221514e+035 3.32787803e+036\n",
            " 1.14619391e+037 3.94774230e+037 1.35968871e+038 4.68306503e+038\n",
            " 1.61294993e+039 5.55535201e+039 1.91338463e+040 6.59011475e+040\n",
            " 2.26977953e+041 7.81761667e+041 2.69255801e+042 9.27375814e+042\n",
            " 3.19408495e+043 1.10011265e+044 3.78902837e+044 1.30502417e+045\n",
            " 4.49478839e+045 1.54810334e+046 5.33200619e+046 1.83645944e+047\n",
            " 6.32516762e+047 2.17852594e+048 7.50331939e+048 2.58430716e+049\n",
            " 8.90091855e+049 3.06567085e+050 1.05588403e+051 3.63669533e+051\n",
            " 1.25255734e+052 4.31408117e+052 1.48586383e+053 5.11763970e+053\n",
            " 1.76262694e+054 6.07087234e+054 2.09094109e+055 7.20165803e+055\n",
            " 2.48040839e+056 8.54306851e+056 2.94241947e+057 1.01343356e+058\n",
            " 3.49048664e+058 1.20219987e+059 4.14063906e+059 1.42612657e+060\n",
            " 4.91189154e+060 1.69176278e+061 5.82680069e+061 2.00687748e+062\n",
            " 6.91212458e+062 2.38068674e+063 8.19960536e+063 2.82412326e+064\n",
            " 9.72689763e+064 3.35015609e+065 1.15386696e+066 3.97416996e+066\n",
            " 1.36879098e+067 4.71441522e+067 1.62374762e+068 5.59254162e+068\n",
            " 1.92619354e+069 6.63423145e+069 2.28497428e+070 7.86995072e+070\n",
            " 2.71058300e+071 9.33584015e+071 3.21546735e+072 1.10747722e+073\n",
            " 3.81439354e+073 1.31376049e+074 4.52487819e+074 1.55846692e+075\n",
            " 5.36770063e+075 1.84875339e+076 6.36751066e+076 2.19310981e+077\n",
            " 7.55354941e+077 2.60160747e+078 8.96050463e+078 3.08619360e+079\n",
            " 1.06295251e+080 3.66104073e+080 1.26094243e+081 4.34296125e+081\n",
            " 1.49581075e+082 5.15189909e+082 1.77442662e+083 6.11151303e+083\n",
            " 2.10493864e+084 7.24986862e+084 2.49701317e+085 8.60025901e+085\n",
            " 2.96211713e+086 1.02021787e+087 3.51385326e+087 1.21024785e+088\n",
            " 4.16835804e+088 1.43567360e+089 4.94477358e+089 1.70308807e+090\n",
            " 5.86580747e+090 2.02031227e+091 6.95839692e+091 2.39662395e+092\n",
            " 8.25449659e+092 2.84302900e+093 9.79201312e+093 3.37258329e+094\n",
            " 1.16159138e+095 4.00077454e+095 1.37795417e+096 4.74597528e+096\n",
            " 1.63461759e+097 5.62998018e+097 1.93908820e+098 6.67864348e+098\n",
            " 2.30027075e+099 7.92263511e+099 2.72872865e+100 9.39833775e+100\n",
            " 3.23699289e+101 1.11489108e+102 3.83992852e+102 1.32255529e+103\n",
            " 4.55516942e+103 1.56889988e+104 5.40363403e+104 1.86112964e+105\n",
            " 6.41013716e+105 2.20779131e+106 7.60411570e+106 2.61902361e+107]\n"
          ]
        }
      ]
    },
    {
      "cell_type": "markdown",
      "metadata": {
        "id": "S8uYLISVMA-H"
      },
      "source": [
        "## Splitting data into training and testing"
      ]
    },
    {
      "cell_type": "code",
      "metadata": {
        "id": "fVnfiOyqMNLg"
      },
      "source": [
        "from sklearn.model_selection import train_test_split\n",
        "## TODO ##\n",
        "# use sklearn (train_test_split) to split data to 80% training 20% testing\n",
        "X_train, X_test, y_train, y_test = train_test_split(X_poly, Y, test_size=0.20)"
      ],
      "execution_count": 50,
      "outputs": []
    },
    {
      "cell_type": "code",
      "metadata": {
        "id": "WmHYknzXMA-I"
      },
      "source": [
        "from sklearn.metrics import mean_squared_error\n",
        "def display_results(model):\n",
        "    coefs = [model.intercept_]\n",
        "    coefs += list(model.coef_)\n",
        "    ytrain_predict=model.predict(X_train)\n",
        "    ytest_predict=model.predict(X_test)\n",
        "    train_error=np.sqrt(mean_squared_error(y_train,ytrain_predict))\n",
        "    test_error=np.sqrt(mean_squared_error(y_test,ytest_predict))\n",
        "    print(\"Training error (rmse):\", train_error)\n",
        "    print(\"Testing error (rmse):\", test_error)\n",
        "    plt.scatter(X_train[:,0], y_train, marker='o')\n",
        "    plt.scatter(X_test[:,0], y_test, marker='^')\n",
        "    draw_polynomial(coefs)\n",
        "    plt.show()\n",
        "    print(\"Polynomial coefficients\")\n",
        "    print(coefs)"
      ],
      "execution_count": 51,
      "outputs": []
    },
    {
      "cell_type": "markdown",
      "metadata": {
        "id": "G9x4Q5S3MA-I"
      },
      "source": [
        "## Training a polynomial regression model with no regularization"
      ]
    },
    {
      "cell_type": "code",
      "metadata": {
        "id": "QKm7sV7JMA-J",
        "colab": {
          "base_uri": "https://localhost:8080/"
        },
        "outputId": "587297e2-d129-402b-dcb4-d489efb2a18d"
      },
      "source": [
        "from sklearn.linear_model import LinearRegression\n",
        "## TODO ##\n",
        "# use sklearn linear regression to fit the data \n",
        "# normalization trick ;)\n",
        "\n",
        "model_no_reg = LinearRegression(normalize=True).fit(X_train, y_train)"
      ],
      "execution_count": 55,
      "outputs": [
        {
          "output_type": "stream",
          "name": "stderr",
          "text": [
            "/usr/local/lib/python3.7/dist-packages/sklearn/linear_model/_base.py:145: FutureWarning: 'normalize' was deprecated in version 1.0 and will be removed in 1.2.\n",
            "If you wish to scale the data, use Pipeline with a StandardScaler in a preprocessing stage. To reproduce the previous behavior:\n",
            "\n",
            "from sklearn.pipeline import make_pipeline\n",
            "\n",
            "model = make_pipeline(StandardScaler(with_mean=False), LinearRegression())\n",
            "\n",
            "If you wish to pass a sample_weight parameter, you need to pass it as a fit parameter to each step of the pipeline as follows:\n",
            "\n",
            "kwargs = {s[0] + '__sample_weight': sample_weight for s in model.steps}\n",
            "model.fit(X, y, **kwargs)\n",
            "\n",
            "\n",
            "  FutureWarning,\n"
          ]
        }
      ]
    },
    {
      "cell_type": "code",
      "metadata": {
        "id": "uje8MamakgwD",
        "colab": {
          "base_uri": "https://localhost:8080/",
          "height": 365
        },
        "outputId": "b8fa8443-702f-4a9a-8ab2-d45ed514055d"
      },
      "source": [
        "display_results(model_no_reg)"
      ],
      "execution_count": 56,
      "outputs": [
        {
          "output_type": "stream",
          "name": "stdout",
          "text": [
            "Training error (rmse): 0.0023324301199399928\n",
            "Testing error (rmse): 1.4404428969116679e+23\n"
          ]
        },
        {
          "output_type": "display_data",
          "data": {
            "text/plain": [
              "<Figure size 432x288 with 1 Axes>"
            ],
            "image/png": "[encoded data removed]"
          },
          "metadata": {
            "needs_background": "light"
          }
        },
        {
          "output_type": "stream",
          "name": "stdout",
          "text": [
            "Polynomial coefficients\n",
            "[-383.9544487054756, 4058.1379240269384, -148.41089816228458, -52553.68560335934, 95458.0068529555, 44359.46845413433, -205723.82449738393, 39882.40475731412, 183783.06294539504, -71285.43273636689, -91568.36800313932, 41331.04564875728, 28312.96631218905, -12474.696037499576, -5583.270127410518, 2087.23416294021, 672.8860188040002, -175.1322545066201, -41.29963394030841, 3.30309852388402, 0.23116303639296495, 0.4040579670844408, 0.08381460599018863, -0.005481577709088622, 0.0005450738250471335, -0.0011463272996162063, -0.00016137219597837596, -3.2601252977885495e-05, -7.744462199631433e-06, 1.141786973239424e-06, -4.905602578057639e-08, 1.489469264434248e-07, 1.3193220578196674e-08, 7.2160980568383e-09, 9.02211198704931e-10, 1.6017567651542942e-10, 3.091430385988933e-11, -5.2854128906911835e-12, 2.1890274605043207e-13, -8.142542720220204e-13, -4.954314354971136e-14, -5.474235301387702e-14, -4.070464431706997e-15, -2.688422258701715e-15, -1.9621420950350854e-16, -1.0137775130008323e-16, -5.795181393473414e-18, -2.461347842411991e-18, 8.777835130518201e-21, 2.4022689009619393e-20, 1.6069852723963535e-20, 8.083351480743176e-21, 1.4491342410223743e-21, 6.809654746262543e-22, 9.17619003391631e-23, 4.32279314302206e-23, 4.7691628582917355e-24, 2.3651776472011565e-24, 2.096451917998723e-25, 1.1650191908683786e-25, 7.335609648946424e-27, 5.2232404384338495e-27, 1.478417473763278e-28, 2.110879546165919e-28, -5.7033232615218295e-30, 7.342054126240686e-30, -9.798407374760174e-31, 1.8793826773131204e-31, -8.295326877598212e-32, 1.4000607553067287e-34, -5.7011085376645695e-33, -4.385782474705885e-34, -3.518805512290307e-34, -4.2707222633481105e-35, -2.0096506052908715e-35, -3.023597824721623e-36, -1.0869172965743895e-36, -1.880384254948521e-37, -5.611647175116325e-38, -1.0763438228311476e-38, -2.7709196677111834e-39, -5.835144851792487e-40, -1.3146406854519386e-40, -3.032141345210578e-41, -5.920424700851613e-42, -1.5142203602372977e-42, -2.5082195395632667e-43, -7.319938456232511e-44, -9.717894599668106e-45, -3.401640806706634e-45, -3.1957150345475798e-46, -1.5232984089841508e-46, -6.465879146934958e-48, -6.521985213494733e-48, 1.8706814052885556e-49, -2.6011766229842136e-49, 3.701892057664127e-50, -9.420747912572567e-51, 3.291628836052578e-51, -2.7756029616636435e-52, 2.386894279283345e-52, -3.52264453765149e-54, 1.5681117448532782e-53, 3.49798452659976e-55, 9.714183749264811e-55, 4.39183071597432e-56, 5.792775178676191e-56, 3.457063122066649e-57, 3.3392207375298165e-57, 2.3718098972884954e-58, 1.8947075235309783e-58, 1.4858380528169293e-59, 1.049946628687375e-59, 8.849171623343098e-61, 5.74180561183369e-61, 5.057740639535246e-62, 3.1062957619907786e-62, 2.8080253197904354e-63, 1.655953188281795e-63, 1.5273355811644497e-64, 8.75003195139596e-65, 8.147819949541495e-66, 4.5779028059389003e-66, 4.277606341291559e-67, 2.376838375785255e-67, 2.2070471289009885e-68, 1.2253005444609183e-68, 1.1182924181460324e-69, 6.268672792548843e-70, 5.5989313005025374e-71, 3.1814303606983027e-71, 2.7499631463086366e-72, 1.6002240718423924e-72, 1.3192928663916184e-73, 8.00113160093229e-74, 6.215220155856838e-75, 3.9700755821811735e-75, 2.853162725391326e-76, 1.9504210460119327e-76, 1.2660782113228098e-77, 9.486898204094953e-78, 5.3568261696550025e-79, 4.5845615128218005e-79, 2.08414132429116e-80, 2.185508371157205e-80, 6.888061703376187e-82, 1.0275313024174306e-81, 1.4164252504179116e-83, 4.7679518067250844e-83, -3.830449086175293e-85, 2.1547461917076065e-84, -8.292985090602496e-86, 9.45506965797461e-86, -7.588449263315294e-87, 4.032906263799434e-87, -5.699335608678804e-88, 1.5992892408968432e-88, -3.9055206944604426e-89, 5.752493186958044e-90, -2.5402018403057813e-90, 1.6443423808317107e-91, -1.5896300093388914e-91, 1.1839856014972066e-93, -9.641159184342337e-93, -2.9418551293070214e-94, -5.767437243273713e-94, -3.519411798848588e-95, -3.374038993629341e-95, -2.9090854585912238e-96, -1.9625005476022327e-96, -2.036912425609521e-97, -1.1276543989097589e-97, -1.3365719521179896e-98, -6.426409222102321e-99, -8.449233697687597e-100, -3.6223706932634007e-100, -5.169308581499266e-101, -2.0413761543738317e-101, -3.0997182581183885e-102, -1.1400225191208074e-102, -1.8219861222552107e-103, -6.359585250457755e-104, -1.0558615560901191e-104, -3.5125355590557106e-105, -6.043908875122465e-106, -1.9457165903687916e-106, -3.441719200014129e-107, -1.069987963040567e-107, -1.9446929520430267e-108, -5.890619564513392e-109, -1.0926061539178456e-109, -3.2204960648531176e-110, -6.09277125099575e-111, -1.7563872247427368e-111, -3.3769023144809665e-112, -9.587322168160051e-113, -1.8726025475315328e-113, -5.229748284550177e-114, -1.0312807786183319e-114, -2.841503844743773e-115, -5.687580748504625e-116]\n"
          ]
        }
      ]
    },
    {
      "cell_type": "markdown",
      "metadata": {
        "id": "TLTU-3ojMA-J"
      },
      "source": [
        "## Training a polynomial regression model with L1 regularization"
      ]
    },
    {
      "cell_type": "code",
      "metadata": {
        "id": "sBfyPNvMMA-J",
        "colab": {
          "base_uri": "https://localhost:8080/"
        },
        "outputId": "1785bcc0-10ba-4a32-f45c-9f2afff2a0c1"
      },
      "source": [
        "from sklearn import linear_model\n",
        "## TODO ##\n",
        "# use sklearn Lasso (linear regression with L1 Norm) to fit the data \n",
        "# normalization trick ;)\n",
        "\n",
        "model_L1_reg = linear_model.Lasso(alpha=0.1, normalize=True).fit(X_train, y_train)"
      ],
      "execution_count": 57,
      "outputs": [
        {
          "output_type": "stream",
          "name": "stderr",
          "text": [
            "/usr/local/lib/python3.7/dist-packages/sklearn/linear_model/_base.py:145: FutureWarning: 'normalize' was deprecated in version 1.0 and will be removed in 1.2.\n",
            "If you wish to scale the data, use Pipeline with a StandardScaler in a preprocessing stage. To reproduce the previous behavior:\n",
            "\n",
            "from sklearn.pipeline import make_pipeline\n",
            "\n",
            "model = make_pipeline(StandardScaler(with_mean=False), Lasso())\n",
            "\n",
            "If you wish to pass a sample_weight parameter, you need to pass it as a fit parameter to each step of the pipeline as follows:\n",
            "\n",
            "kwargs = {s[0] + '__sample_weight': sample_weight for s in model.steps}\n",
            "model.fit(X, y, **kwargs)\n",
            "\n",
            "Set parameter alpha to: original_alpha * np.sqrt(n_samples). \n",
            "  FutureWarning,\n"
          ]
        }
      ]
    },
    {
      "cell_type": "code",
      "metadata": {
        "id": "LOYlQsU5MA-K",
        "colab": {
          "base_uri": "https://localhost:8080/",
          "height": 365
        },
        "outputId": "ecf2e72d-32f5-43ea-f435-a0f506e3dcb0"
      },
      "source": [
        "display_results(model_L1_reg)"
      ],
      "execution_count": 58,
      "outputs": [
        {
          "output_type": "stream",
          "name": "stdout",
          "text": [
            "Training error (rmse): 2.162649282715434\n",
            "Testing error (rmse): 1.5266378230306379\n"
          ]
        },
        {
          "output_type": "display_data",
          "data": {
            "text/plain": [
              "<Figure size 432x288 with 1 Axes>"
            ],
            "image/png": "[encoded data removed]"
          },
          "metadata": {
            "needs_background": "light"
          }
        },
        {
          "output_type": "stream",
          "name": "stdout",
          "text": [
            "Polynomial coefficients\n",
            "[13.822627033212735, 0.35131924648753987, -0.8798107883987627, 0.0, -0.0, 0.0016458382922914648, -0.0, 4.881835101750462e-05, -0.0, 0.0, -0.0, 0.0, -0.0, 0.0, -0.0, 0.0, -0.0, 0.0, -0.0, 0.0, -0.0, 0.0, -0.0, 0.0, -0.0, 0.0, -0.0, 0.0, -0.0, 0.0, -0.0, 0.0, -0.0, 0.0, -0.0, 0.0, -0.0, 0.0, -0.0, 0.0, -0.0, 0.0, -0.0, 0.0, -0.0, 0.0, -0.0, 0.0, -0.0, 0.0, -0.0, 0.0, -0.0, 0.0, -0.0, 0.0, -0.0, 0.0, -0.0, 0.0, -0.0, 0.0, -0.0, 0.0, -0.0, 0.0, -0.0, 0.0, -0.0, 0.0, -0.0, 0.0, -0.0, 0.0, -0.0, 0.0, -0.0, 0.0, -0.0, 0.0, -0.0, 0.0, -0.0, 0.0, -0.0, 0.0, -0.0, 0.0, -0.0, 0.0, -0.0, 0.0, -0.0, 0.0, -0.0, 0.0, -0.0, 0.0, -0.0, 0.0, -0.0, 0.0, -0.0, 0.0, -0.0, 0.0, -0.0, 0.0, -0.0, 0.0, -0.0, 0.0, -0.0, 0.0, -0.0, 0.0, -0.0, 0.0, -0.0, 0.0, -0.0, 0.0, -0.0, 0.0, -0.0, 0.0, -0.0, 0.0, -0.0, 0.0, -0.0, 0.0, -0.0, 0.0, -0.0, 0.0, -0.0, 0.0, -0.0, 0.0, -0.0, 0.0, -0.0, 0.0, -0.0, 0.0, -0.0, 0.0, -0.0, 0.0, -0.0, 0.0, -0.0, 0.0, -0.0, 0.0, -0.0, 0.0, -0.0, 0.0, -0.0, 0.0, -0.0, 0.0, -0.0, 0.0, -0.0, 0.0, -0.0, 0.0, -0.0, 0.0, -0.0, 0.0, -0.0, 0.0, -0.0, 0.0, -0.0, 0.0, -0.0, 0.0, -0.0, 0.0, -0.0, 0.0, -0.0, 0.0, -0.0, 0.0, -0.0, 0.0, -0.0, 0.0, -0.0, 0.0, -0.0, 0.0, -0.0, 0.0, -0.0]\n"
          ]
        }
      ]
    },
    {
      "cell_type": "markdown",
      "metadata": {
        "id": "21v4zgmbMA-K"
      },
      "source": [
        "## Training a polynomial regression model with L2 regularization"
      ]
    },
    {
      "cell_type": "code",
      "metadata": {
        "id": "MrSeiPXPMA-K",
        "colab": {
          "base_uri": "https://localhost:8080/"
        },
        "outputId": "3ae18382-6fbf-4322-88a1-1f8eaf59949b"
      },
      "source": [
        "from sklearn import linear_model\n",
        "## TODO ##\n",
        "# use sklearn Ridge (linear regression with L2 Norm) to fit the data \n",
        "# normalization trick ;)\n",
        "\n",
        "model_L2_reg = linear_model.Ridge(alpha=0.1, normalize=True).fit(X_train, y_train)"
      ],
      "execution_count": 59,
      "outputs": [
        {
          "output_type": "stream",
          "name": "stderr",
          "text": [
            "/usr/local/lib/python3.7/dist-packages/sklearn/linear_model/_base.py:145: FutureWarning: 'normalize' was deprecated in version 1.0 and will be removed in 1.2.\n",
            "If you wish to scale the data, use Pipeline with a StandardScaler in a preprocessing stage. To reproduce the previous behavior:\n",
            "\n",
            "from sklearn.pipeline import make_pipeline\n",
            "\n",
            "model = make_pipeline(StandardScaler(with_mean=False), Ridge())\n",
            "\n",
            "If you wish to pass a sample_weight parameter, you need to pass it as a fit parameter to each step of the pipeline as follows:\n",
            "\n",
            "kwargs = {s[0] + '__sample_weight': sample_weight for s in model.steps}\n",
            "model.fit(X, y, **kwargs)\n",
            "\n",
            "Set parameter alpha to: original_alpha * n_samples. \n",
            "  FutureWarning,\n"
          ]
        }
      ]
    },
    {
      "cell_type": "code",
      "metadata": {
        "id": "TyLoFFM_MA-L",
        "colab": {
          "base_uri": "https://localhost:8080/",
          "height": 365
        },
        "outputId": "f6816cd9-61aa-4f49-bf99-1ad6b91822f8"
      },
      "source": [
        "display_results(model_L2_reg)"
      ],
      "execution_count": 60,
      "outputs": [
        {
          "output_type": "stream",
          "name": "stdout",
          "text": [
            "Training error (rmse): 1.9900353046620396\n",
            "Testing error (rmse): 41859637850.492096\n"
          ]
        },
        {
          "output_type": "display_data",
          "data": {
            "text/plain": [
              "<Figure size 432x288 with 1 Axes>"
            ],
            "image/png": "[encoded data removed]"
          },
          "metadata": {
            "needs_background": "light"
          }
        },
        {
          "output_type": "stream",
          "name": "stdout",
          "text": [
            "Polynomial coefficients\n",
            "[13.373775387691168, 0.4647985164474707, -0.5585575786113406, 0.00926197539834738, -0.016551826997399627, 0.0002848469362864722, -0.0005157460417059177, 1.9360717956067144e-05, -1.5855058617960197e-05, 1.3916802220292512e-06, -4.381775933997614e-07, 8.796817537087168e-08, -8.315530733046538e-09, 5.003006582379566e-09, 1.292903725012426e-10, 2.641750798369332e-10, 2.8984504586210233e-11, 1.3223972013102831e-11, 2.3975826490916114e-12, 6.355136520340829e-13, 1.6019615815151288e-13, 2.9533723640754056e-14, 9.724824917430488e-15, 1.3318455200767543e-15, 5.586517320219733e-16, 5.830793643243505e-17, 3.0944147953318626e-17, 2.471598409810213e-18, 1.6696090386841025e-18, 1.0073863270426428e-19, 8.829393817592233e-20, 3.89170678488309e-21, 4.595068057078553e-21, 1.3816754507481684e-22, 2.3601189632226864e-22, 4.161726080534465e-24, 1.1988417052251436e-23, 7.539070175739731e-26, 6.03197206497678e-25, -2.6121599331581604e-27, 3.00990018088147e-26, -4.368770499871998e-28, 1.490896112455024e-27, -3.6539933589814845e-29, 7.335994320496649e-29, -2.5331641840077715e-30, 3.587763100201584e-30, -1.60680396341127e-31, 1.7446665576555773e-31, -9.679113974336185e-33, 8.437939759399487e-33, -5.638506525686751e-34, 4.059301831809259e-34, -3.209182943974801e-35, 1.9424853885033632e-35, -1.7959080274717497e-36, 9.244829089035148e-37, -9.923408653134238e-38, 4.374767577249743e-38, -5.4299765939142366e-39, 2.0574697440848062e-39, -2.948602895655258e-40, 9.610656593667898e-41, -1.5914840582061874e-41, 4.45471048413894e-42, -8.548306928840291e-43, 2.046386211777534e-43, -4.573597906936007e-44, 9.300406572195385e-45, -2.4392663390269592e-45, 4.171571723401812e-46, -1.2976079493661104e-46, 1.8401172339161093e-47, -6.888455578954788e-48, 7.94019340008117e-49, -3.650628464305897e-49, 3.3234163360866717e-50, -1.9320768796319583e-50, 1.3297510840185173e-51, -1.0214380096639662e-51, 4.943337491222891e-53, -5.395493110600942e-53, 1.5945543093262036e-54, -2.8481758257722466e-54, 3.4557342917746888e-56, -1.5027649639626195e-55, -6.018168380112334e-58, -7.926204224062207e-57, -1.5043952407572105e-58, -4.179666788185216e-58, -1.374963895082417e-59, -2.20376295230559e-59, -1.0103106449945854e-60, -1.1619113088647263e-60, -6.728015184687479e-62, -6.12630209639604e-62, -4.2361554608396743e-63, -3.230492605970577e-63, -2.572597197097477e-64, -1.703755862045824e-64, -1.5235802738067655e-65, -8.987396613287227e-66, -8.858703131569423e-67, -4.7420355994937704e-67, -5.0792407256462595e-68, -2.5027279737891367e-68, -2.8805331727128294e-69, -1.3212697371229906e-69, -1.6193602588671835e-70, -6.977617852150224e-71, -9.03893830869004e-72, -3.686104296504053e-72, -5.015727541244639e-73, -1.947950738036166e-73, -2.7695762507761735e-74, -1.0297738858556877e-74, -1.522962311609982e-75, -5.445799334068185e-76, -8.345074418138681e-77, -2.880967610874012e-77, -4.558856485252275e-78, -1.5246571539858042e-78, -2.4839760752646566e-79, -8.071649572073205e-80, -1.3503789364548717e-80, -4.274714521055718e-81, -7.326685783357172e-82, -2.264667345312488e-82, -3.968355803042809e-83, -1.2001938850276142e-83, -2.1461316256883485e-84, -6.362749494296718e-85, -1.1591064479984801e-85, -3.374279129141468e-86, -6.25286624008632e-87, -1.7900121314523045e-87, -3.369630911345567e-88, -9.498729072663096e-89, -1.8141941508976748e-89, -5.042026919455273e-90, -9.759504589271952e-91, -2.677135700158824e-91, -5.2463004970255474e-92, -1.4218589444659285e-92, -2.8183438320724137e-93, -7.553684282313089e-94, -1.5131436545592192e-94, -4.013955859018399e-95, -8.11966542454351e-96, -2.133502125375988e-96, -4.355030911826406e-97, -1.1342678061811017e-97, -2.334856330381471e-98, -6.0316418546377926e-99, -1.2513051888072942e-99, -3.208103411587916e-100, -6.703734452425667e-101, -1.706670179518092e-101, -3.590338189816155e-102, -9.081026363576334e-103, -1.9223473613038485e-103, -4.832814852551488e-104, -1.0290059661531633e-104, -2.5724158870070435e-105, -5.506856829382288e-106, -1.3694748812782927e-106, -2.9464481964899635e-107, -7.291804566863843e-108, -1.5761998227928659e-108, -3.883116101929049e-109, -8.430408881999754e-110, -2.068171878946472e-110, -4.5083498381497875e-111, -1.1016671957496155e-111, -2.410594826041754e-112, -5.869059712255529e-113, -1.2887655247437432e-113, -3.127072070395373e-114, -6.889244272301575e-115, -1.6663091506312752e-115, -3.6823212288728153e-116, -8.880119461376119e-117, -1.9680139772054772e-117, -4.732873849400152e-118, -1.0517069148559256e-118, -2.522733799520101e-119, -5.619848508960205e-120, -1.3447944661553052e-120, -3.0027612028795443e-121, -7.16928970329442e-122, -1.6043015260705637e-122, -3.822345462258131e-123, -8.570825839862099e-124, -2.038052213282386e-124, -4.5786037038933365e-125, -1.0867516982354307e-125, -2.4457901454963933e-126, -5.795263582378518e-127, -1.3064203502140323e-127, -3.090595722729211e-128, -6.977920085402795e-129]\n"
          ]
        }
      ]
    },
    {
      "cell_type": "markdown",
      "metadata": {
        "id": "1EsLoBMqMA-L"
      },
      "source": [
        "## Viewing the predictions in the testing set"
      ]
    },
    {
      "cell_type": "code",
      "metadata": {
        "id": "TPp6zYZ6MA-L",
        "colab": {
          "base_uri": "https://localhost:8080/",
          "height": 300
        },
        "outputId": "985a2096-d950-4597-e322-5fab7193c11e"
      },
      "source": [
        "import pandas as pd\n",
        "from IPython.display import display\n",
        "predictions={}\n",
        "predictions ['x']=X_test[:,0]\n",
        "predictions ['y']=y_test\n",
        "predictions['No reg'] = model_no_reg.predict(X_test)\n",
        "predictions['L1 reg'] = model_L1_reg.predict(X_test)\n",
        "predictions['L2 reg'] = model_L2_reg.predict(X_test)\n",
        "predictions=pd.DataFrame.from_dict(predictions)\n",
        "display(predictions)"
      ],
      "execution_count": 61,
      "outputs": [
        {
          "output_type": "display_data",
          "data": {
            "text/plain": [
              "          x          y        No reg     L1 reg        L2 reg\n",
              "0  0.046869  12.858476 -1.990235e+02  13.837160  1.339433e+01\n",
              "1 -0.520304  13.478608  6.712850e+03  13.401592  1.297819e+01\n",
              "2  0.675107  14.272553  3.604835e+00  13.659048  1.343239e+01\n",
              "3 -0.234030  10.927272 -4.465504e+02  13.692219  1.323424e+01\n",
              "4 -4.859583 -15.848719  4.783514e+21 -16.246805 -5.696252e+08\n",
              "5 -4.988572 -18.893035  4.073907e+23 -18.662857 -1.183956e+11\n",
              "6 -2.410832   4.690236 -1.058844e+01   7.704951  8.157167e+00\n",
              "7 -1.747956  11.091072 -1.843244e+03  10.491115  1.062867e+01"
            ],
            "text/html": [
              "\n",
              "  <div id=\"df-7b8f2008-0ca6-4911-a8cb-78c7da5d0988\">\n",
              "    <div class=\"colab-df-container\">\n",
              "      <div>\n",
              "<style scoped>\n",
              "    .dataframe tbody tr th:only-of-type {\n",
              "        vertical-align: middle;\n",
              "    }\n",
              "\n",
              "    .dataframe tbody tr th {\n",
              "        vertical-align: top;\n",
              "    }\n",
              "\n",
              "    .dataframe thead th {\n",
              "        text-align: right;\n",
              "    }\n",
              "</style>\n",
              "<table border=\"1\" class=\"dataframe\">\n",
              "  <thead>\n",
              "    <tr style=\"text-align: right;\">\n",
              "      <th></th>\n",
              "      <th>x</th>\n",
              "      <th>y</th>\n",
              "      <th>No reg</th>\n",
              "      <th>L1 reg</th>\n",
              "      <th>L2 reg</th>\n",
              "    </tr>\n",
              "  </thead>\n",
              "  <tbody>\n",
              "    <tr>\n",
              "      <th>0</th>\n",
              "      <td>0.046869</td>\n",
              "      <td>12.858476</td>\n",
              "      <td>-1.990235e+02</td>\n",
              "      <td>13.837160</td>\n",
              "      <td>1.339433e+01</td>\n",
              "    </tr>\n",
              "    <tr>\n",
              "      <th>1</th>\n",
              "      <td>-0.520304</td>\n",
              "      <td>13.478608</td>\n",
              "      <td>6.712850e+03</td>\n",
              "      <td>13.401592</td>\n",
              "      <td>1.297819e+01</td>\n",
              "    </tr>\n",
              "    <tr>\n",
              "      <th>2</th>\n",
              "      <td>0.675107</td>\n",
              "      <td>14.272553</td>\n",
              "      <td>3.604835e+00</td>\n",
              "      <td>13.659048</td>\n",
              "      <td>1.343239e+01</td>\n",
              "    </tr>\n",
              "    <tr>\n",
              "      <th>3</th>\n",
              "      <td>-0.234030</td>\n",
              "      <td>10.927272</td>\n",
              "      <td>-4.465504e+02</td>\n",
              "      <td>13.692219</td>\n",
              "      <td>1.323424e+01</td>\n",
              "    </tr>\n",
              "    <tr>\n",
              "      <th>4</th>\n",
              "      <td>-4.859583</td>\n",
              "      <td>-15.848719</td>\n",
              "      <td>4.783514e+21</td>\n",
              "      <td>-16.246805</td>\n",
              "      <td>-5.696252e+08</td>\n",
              "    </tr>\n",
              "    <tr>\n",
              "      <th>5</th>\n",
              "      <td>-4.988572</td>\n",
              "      <td>-18.893035</td>\n",
              "      <td>4.073907e+23</td>\n",
              "      <td>-18.662857</td>\n",
              "      <td>-1.183956e+11</td>\n",
              "    </tr>\n",
              "    <tr>\n",
              "      <th>6</th>\n",
              "      <td>-2.410832</td>\n",
              "      <td>4.690236</td>\n",
              "      <td>-1.058844e+01</td>\n",
              "      <td>7.704951</td>\n",
              "      <td>8.157167e+00</td>\n",
              "    </tr>\n",
              "    <tr>\n",
              "      <th>7</th>\n",
              "      <td>-1.747956</td>\n",
              "      <td>11.091072</td>\n",
              "      <td>-1.843244e+03</td>\n",
              "      <td>10.491115</td>\n",
              "      <td>1.062867e+01</td>\n",
              "    </tr>\n",
              "  </tbody>\n",
              "</table>\n",
              "</div>\n",
              "      <button class=\"colab-df-convert\" onclick=\"convertToInteractive('df-7b8f2008-0ca6-4911-a8cb-78c7da5d0988')\"\n",
              "              title=\"Convert this dataframe to an interactive table.\"\n",
              "              style=\"display:none;\">\n",
              "        \n",
              "  <svg xmlns=\"http://www.w3.org/2000/svg\" height=\"24px\"viewBox=\"0 0 24 24\"\n",
              "       width=\"24px\">\n",
              "    <path d=\"M0 0h24v24H0V0z\" fill=\"none\"/>\n",
              "    <path d=\"M18.56 5.44l.94 2.06.94-2.06 2.06-.94-2.06-.94-.94-2.06-.94 2.06-2.06.94zm-11 1L8.5 8.5l.94-2.06 2.06-.94-2.06-.94L8.5 2.5l-.94 2.06-2.06.94zm10 10l.94 2.06.94-2.06 2.06-.94-2.06-.94-.94-2.06-.94 2.06-2.06.94z\"/><path d=\"M17.41 7.96l-1.37-1.37c-.4-.4-.92-.59-1.43-.59-.52 0-1.04.2-1.43.59L10.3 9.45l-7.72 7.72c-.78.78-.78 2.05 0 2.83L4 21.41c.39.39.9.59 1.41.59.51 0 1.02-.2 1.41-.59l7.78-7.78 2.81-2.81c.8-.78.8-2.07 0-2.86zM5.41 20L4 18.59l7.72-7.72 1.47 1.35L5.41 20z\"/>\n",
              "  </svg>\n",
              "      </button>\n",
              "      \n",
              "  <style>\n",
              "    .colab-df-container {\n",
              "      display:flex;\n",
              "      flex-wrap:wrap;\n",
              "      gap: 12px;\n",
              "    }\n",
              "\n",
              "    .colab-df-convert {\n",
              "      background-color: #E8F0FE;\n",
              "      border: none;\n",
              "      border-radius: 50%;\n",
              "      cursor: pointer;\n",
              "      display: none;\n",
              "      fill: #1967D2;\n",
              "      height: 32px;\n",
              "      padding: 0 0 0 0;\n",
              "      width: 32px;\n",
              "    }\n",
              "\n",
              "    .colab-df-convert:hover {\n",
              "      background-color: #E2EBFA;\n",
              "      box-shadow: 0px 1px 2px rgba(60, 64, 67, 0.3), 0px 1px 3px 1px rgba(60, 64, 67, 0.15);\n",
              "      fill: #174EA6;\n",
              "    }\n",
              "\n",
              "    [theme=dark] .colab-df-convert {\n",
              "      background-color: #3B4455;\n",
              "      fill: #D2E3FC;\n",
              "    }\n",
              "\n",
              "    [theme=dark] .colab-df-convert:hover {\n",
              "      background-color: #434B5C;\n",
              "      box-shadow: 0px 1px 3px 1px rgba(0, 0, 0, 0.15);\n",
              "      filter: drop-shadow(0px 1px 2px rgba(0, 0, 0, 0.3));\n",
              "      fill: #FFFFFF;\n",
              "    }\n",
              "  </style>\n",
              "\n",
              "      <script>\n",
              "        const buttonEl =\n",
              "          document.querySelector('#df-7b8f2008-0ca6-4911-a8cb-78c7da5d0988 button.colab-df-convert');\n",
              "        buttonEl.style.display =\n",
              "          google.colab.kernel.accessAllowed ? 'block' : 'none';\n",
              "\n",
              "        async function convertToInteractive(key) {\n",
              "          const element = document.querySelector('#df-7b8f2008-0ca6-4911-a8cb-78c7da5d0988');\n",
              "          const dataTable =\n",
              "            await google.colab.kernel.invokeFunction('convertToInteractive',\n",
              "                                                     [key], {});\n",
              "          if (!dataTable) return;\n",
              "\n",
              "          const docLinkHtml = 'Like what you see? Visit the ' +\n",
              "            '<a target=\"_blank\" href=https://colab.research.google.com/notebooks/data_table.ipynb>data table notebook</a>'\n",
              "            + ' to learn more about interactive tables.';\n",
              "          element.innerHTML = '';\n",
              "          dataTable['output_type'] = 'display_data';\n",
              "          await google.colab.output.renderOutput(dataTable, element);\n",
              "          const docLink = document.createElement('div');\n",
              "          docLink.innerHTML = docLinkHtml;\n",
              "          element.appendChild(docLink);\n",
              "        }\n",
              "      </script>\n",
              "    </div>\n",
              "  </div>\n",
              "  "
            ]
          },
          "metadata": {}
        }
      ]
    },
    {
      "cell_type": "code",
      "source": [
        ""
      ],
      "metadata": {
        "id": "zhXcqwsCyC7E"
      },
      "execution_count": 45,
      "outputs": []
    }
  ]
}